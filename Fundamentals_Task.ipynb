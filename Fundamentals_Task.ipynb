{
 "cells": [
  {
   "cell_type": "markdown",
   "metadata": {},
   "source": [
    "# Task 1 "
   ]
  },
  {
   "cell_type": "markdown",
   "metadata": {},
   "source": [
    "This file contains my solution for the Fundamentals of Data Analytics tasks for 2020\n",
    "\n",
    "***"
   ]
  },
  {
   "cell_type": "code",
   "execution_count": 6,
   "metadata": {},
   "outputs": [],
   "source": [
    "myList = ['A', 'A', 'B', 'C', 'A']"
   ]
  },
  {
   "cell_type": "code",
   "execution_count": 7,
   "metadata": {},
   "outputs": [
    {
     "name": "stdout",
     "output_type": "stream",
     "text": [
      "['A', 'A', 'B', 'C', 'A']\n"
     ]
    }
   ],
   "source": [
    "print(myList)"
   ]
  },
  {
   "cell_type": "code",
   "execution_count": 8,
   "metadata": {},
   "outputs": [
    {
     "name": "stdout",
     "output_type": "stream",
     "text": [
      "['A', 'A', 'A', 'B', 'C']\n"
     ]
    }
   ],
   "source": [
    "print(sorted(myList))"
   ]
  },
  {
   "cell_type": "code",
   "execution_count": 9,
   "metadata": {},
   "outputs": [
    {
     "name": "stdout",
     "output_type": "stream",
     "text": [
      "['A', 'B', 'C']\n"
     ]
    }
   ],
   "source": [
    "print(sorted(set(myList)))"
   ]
  },
  {
   "cell_type": "code",
   "execution_count": 10,
   "metadata": {},
   "outputs": [],
   "source": [
    "key = sorted(set(myList))"
   ]
  },
  {
   "cell_type": "code",
   "execution_count": 11,
   "metadata": {},
   "outputs": [
    {
     "name": "stdout",
     "output_type": "stream",
     "text": [
      "['A', 'B', 'C']\n"
     ]
    }
   ],
   "source": [
    "print(key)"
   ]
  },
  {
   "cell_type": "code",
   "execution_count": 12,
   "metadata": {},
   "outputs": [],
   "source": [
    "Dict = {}"
   ]
  },
  {
   "cell_type": "code",
   "execution_count": 13,
   "metadata": {},
   "outputs": [],
   "source": [
    "for value in (key):\n",
    "    amount = myList.count(value)\n",
    "    Dict[value] = amount\n"
   ]
  },
  {
   "cell_type": "code",
   "execution_count": 14,
   "metadata": {},
   "outputs": [
    {
     "name": "stdout",
     "output_type": "stream",
     "text": [
      "{'A': 3, 'B': 1, 'C': 1}\n"
     ]
    }
   ],
   "source": [
    "print(Dict)"
   ]
  },
  {
   "cell_type": "code",
   "execution_count": 15,
   "metadata": {},
   "outputs": [],
   "source": [
    "def counts(myList):\n",
    "    key = sorted(set(myList))\n",
    "    for value in (key):\n",
    "        amount = myList.count(value)\n",
    "        Dict[value] = amount\n",
    "    return Dict\n",
    "        "
   ]
  },
  {
   "cell_type": "code",
   "execution_count": 16,
   "metadata": {},
   "outputs": [],
   "source": [
    "def count(x):\n",
    "    key = sorted(set(x))\n",
    "    for value in (key):\n",
    "        amount = myList.count(value)\n",
    "        Dict[value] = amount\n",
    "    return Dict\n",
    "        "
   ]
  },
  {
   "cell_type": "code",
   "execution_count": 17,
   "metadata": {},
   "outputs": [
    {
     "data": {
      "text/plain": [
       "{'A': 3, 'B': 1, 'C': 1}"
      ]
     },
     "execution_count": 17,
     "metadata": {},
     "output_type": "execute_result"
    }
   ],
   "source": [
    "count(myList)"
   ]
  },
  {
   "cell_type": "markdown",
   "metadata": {},
   "source": [
    "## Task 2"
   ]
  },
  {
   "cell_type": "markdown",
   "metadata": {},
   "source": [
    "### Roll The Dice "
   ]
  },
  {
   "cell_type": "markdown",
   "metadata": {},
   "source": [
    "This function will simulate rolling dice. The user is prompted for the amount of dice they would like to roll and how often. "
   ]
  },
  {
   "cell_type": "code",
   "execution_count": 23,
   "metadata": {},
   "outputs": [
    {
     "data": {
      "text/plain": [
       "array([2, 4, 5, ..., 5, 2, 3])"
      ]
     },
     "execution_count": 23,
     "metadata": {},
     "output_type": "execute_result"
    }
   ],
   "source": [
    "import numpy as np\n",
    "import matplotlib.pyplot as plt\n",
    "\n",
    "rng = np.random.default_rng()\n",
    "a = rng.integers(1,6, size = 10000, endpoint= True )\n",
    "a"
   ]
  },
  {
   "cell_type": "code",
   "execution_count": 24,
   "metadata": {},
   "outputs": [
    {
     "data": {
      "image/png": "[encoded data removed]",
      "text/plain": [
       "<Figure size 432x288 with 1 Axes>"
      ]
     },
     "metadata": {
      "needs_background": "light"
     },
     "output_type": "display_data"
    }
   ],
   "source": [
    "%matplotlib inline\n",
    "\n",
    "plt.hist(a)\n",
    "plt.show()"
   ]
  },
  {
   "cell_type": "code",
   "execution_count": 25,
   "metadata": {},
   "outputs": [
    {
     "name": "stdout",
     "output_type": "stream",
     "text": [
      "Enter username:shane\n",
      "Username is: shane\n"
     ]
    }
   ],
   "source": [
    "username = input(\"Enter username:\")\n",
    "print(\"Username is: \" + username)"
   ]
  },
  {
   "cell_type": "code",
   "execution_count": 47,
   "metadata": {},
   "outputs": [],
   "source": [
    "a = rng.integers(1,6, size = 100, endpoint= True )\n",
    "b = rng.integers(1,6, size = 100, endpoint= True )\n",
    "\n",
    "roll = a+b"
   ]
  },
  {
   "cell_type": "code",
   "execution_count": 48,
   "metadata": {},
   "outputs": [
    {
     "data": {
      "text/plain": [
       "(array([ 2.,  5.,  8., 11., 13., 22., 13.,  9.,  7., 10.]),\n",
       " array([ 2.,  3.,  4.,  5.,  6.,  7.,  8.,  9., 10., 11., 12.]),\n",
       " <a list of 10 Patch objects>)"
      ]
     },
     "execution_count": 48,
     "metadata": {},
     "output_type": "execute_result"
    },
    {
     "data": {
      "image/png": "[encoded data removed]",
      "text/plain": [
       "<Figure size 432x288 with 1 Axes>"
      ]
     },
     "metadata": {
      "needs_background": "light"
     },
     "output_type": "display_data"
    }
   ],
   "source": [
    "plt.hist(roll)"
   ]
  },
  {
   "cell_type": "code",
   "execution_count": 49,
   "metadata": {},
   "outputs": [
    {
     "name": "stdout",
     "output_type": "stream",
     "text": [
      "[ 4  8  3  3  5  3  9  3 10  6  6  3  4  5  8 11  7  7  2  8  5  7 10 10\n",
      "  4 11  7  7  7  7  9  8  9  4  6  9  7 11  8  8  5  9  6  6  7  9  8  5\n",
      " 10  7  7 11 12  8  6  7 10  5  7  4  6 12  5  7  6  7  5  9  6 12  6  5\n",
      " 12  5  6  9  8  5  4  7  7  7 11  7  6  9 10  4 10  4  7  8  8  6  2  7\n",
      " 11  7  8  8]\n"
     ]
    }
   ],
   "source": [
    "print(roll)"
   ]
  },
  {
   "cell_type": "code",
   "execution_count": 59,
   "metadata": {},
   "outputs": [],
   "source": [
    "Dict1 ={}"
   ]
  },
  {
   "cell_type": "code",
   "execution_count": 60,
   "metadata": {},
   "outputs": [],
   "source": [
    "def diceroll(x):\n",
    "    num_list = x.tolist()\n",
    "    key = sorted(set(num_list))\n",
    "    for value in (key):\n",
    "        amount = num_list.count(value)\n",
    "        Dict1[value] = amount\n",
    "    return Dict1\n",
    "        "
   ]
  },
  {
   "cell_type": "code",
   "execution_count": 61,
   "metadata": {},
   "outputs": [
    {
     "data": {
      "text/plain": [
       "{2: 2, 3: 5, 4: 8, 5: 11, 6: 13, 7: 22, 8: 13, 9: 9, 10: 7, 11: 6, 12: 4}"
      ]
     },
     "execution_count": 61,
     "metadata": {},
     "output_type": "execute_result"
    }
   ],
   "source": [
    "diceroll(roll)"
   ]
  },
  {
   "cell_type": "markdown",
   "metadata": {},
   "source": [
    "## Task 3"
   ]
  },
  {
   "cell_type": "markdown",
   "metadata": {},
   "source": [
    "https://numpy.org/doc/stable/reference/random/generated/numpy.random.binomial.html?highlight=random%20binomial#numpy.random.binomial\n",
    "\n",
    "https://www.youtube.com/watch?v=e04_wUoscBU&list=PLTNMv857s9WVzutwxaMb0YZKW7hoveGLS&index=2\n",
    "\n",
    "https://www.khanacademy.org/math/precalculus/x9e81a4f98389efdf:prob-comb/x9e81a4f98389efdf:combinations/v/combination-formula\n",
    "\n",
    "https://github.com/mwaskom/seaborn/issues/2352"
   ]
  },
  {
   "cell_type": "code",
   "execution_count": 6,
   "metadata": {},
   "outputs": [
    {
     "name": "stdout",
     "output_type": "stream",
     "text": [
      "Enter the amount of times you would like to run this experiemnt: 100\n"
     ]
    }
   ],
   "source": [
    "\n",
    "n = input(\"Enter the amount of times you would like to run this experiemnt: \")\n",
    "p = 0.5\n",
    "# n = the number of trails and p = the probability on success"
   ]
  },
  {
   "cell_type": "code",
   "execution_count": 1,
   "metadata": {},
   "outputs": [],
   "source": [
    "import numpy as np\n",
    "rng = np.random.default_rng()\n",
    "# create a random number generator \n",
    "\n",
    "n, p = 100, .5  # number of trials, probability of each trial\n",
    "s = rng.binomial(n, p, 1000)\n",
    "# result of flipping a coin 10 times, tested 1000 times.\n"
   ]
  },
  {
   "cell_type": "code",
   "execution_count": 6,
   "metadata": {},
   "outputs": [
    {
     "data": {
      "text/plain": [
       "<seaborn.axisgrid.FacetGrid at 0x109815850>"
      ]
     },
     "execution_count": 6,
     "metadata": {},
     "output_type": "execute_result"
    },
    {
     "data": {
      "image/png": "[encoded data removed]",
      "text/plain": [
       "<Figure size 360x360 with 1 Axes>"
      ]
     },
     "metadata": {
      "needs_background": "light"
     },
     "output_type": "display_data"
    }
   ],
   "source": [
    "%matplotlib inline\n",
    "\n",
    "import matplotlib.pyplot as plt\n",
    "import seaborn as sns\n",
    "sns.displot(s,  kind=\"kde\")\n",
    "# wont run because the version of seaborn is 0.9\n",
    "# Couldnt update seaborn from Anaconda and needed to force the update\n",
    "# conda install seaborn==0.11.0"
   ]
  },
  {
   "cell_type": "code",
   "execution_count": 4,
   "metadata": {},
   "outputs": [
    {
     "data": {
      "text/plain": [
       "'0.11.0'"
      ]
     },
     "execution_count": 4,
     "metadata": {},
     "output_type": "execute_result"
    }
   ],
   "source": [
    "import seaborn as sns\n",
    "sns.__version__\n"
   ]
  },
  {
   "cell_type": "code",
   "execution_count": 4,
   "metadata": {},
   "outputs": [
    {
     "name": "stdout",
     "output_type": "stream",
     "text": [
      "3.7.4\n"
     ]
    }
   ],
   "source": [
    "from platform import python_version\n",
    "\n",
    "print(python_version())"
   ]
  },
  {
   "cell_type": "markdown",
   "metadata": {},
   "source": [
    "## Task 4"
   ]
  },
  {
   "cell_type": "markdown",
   "metadata": {},
   "source": [
    "https://www.youtube.com/watch?v=NTHA9Qa81R8"
   ]
  },
  {
   "cell_type": "markdown",
   "metadata": {},
   "source": [
    "## <div align=\"center\"> Simpson's Paradox <div> \n",
    "    \n",
    "Simpson's Paradox is a well-known paradox within probability and statistics in which a trend a similar trend appears in several individual groups of data, but the trend is reserved or disappears when the data is aggerated.\n",
    "\n",
    "***"
   ]
  },
  {
   "cell_type": "markdown",
   "metadata": {},
   "source": [
    "To demonstrate Simpson's Paradox we will simulation 4 separate dataset with similar positive trends. We shal then aggregate the data and observe the result."
   ]
  },
  {
   "cell_type": "code",
   "execution_count": 58,
   "metadata": {},
   "outputs": [],
   "source": [
    "import numpy as np\n",
    "import matplotlib.pyplot as plt\n",
    "import seaborn as sns\n",
    "\n",
    "plt.style.use(\"ggplot\")\n",
    "%matplotlib inline\n",
    "plt.rcParams[\"figure.figsize\"] = (15,8)\n",
    "#Need to set the seed"
   ]
  },
  {
   "cell_type": "code",
   "execution_count": 57,
   "metadata": {
    "scrolled": true
   },
   "outputs": [
    {
     "data": {
      "text/plain": [
       "<matplotlib.legend.Legend at 0x1a202d9c90>"
      ]
     },
     "execution_count": 57,
     "metadata": {},
     "output_type": "execute_result"
    },
    {
     "data": {
      "image/png": "[encoded data removed]",
      "text/plain": [
       "<Figure size 1080x576 with 1 Axes>"
      ]
     },
     "metadata": {
      "needs_background": "light"
     },
     "output_type": "display_data"
    }
   ],
   "source": [
    "# create data that increases in a positive trend \n",
    "x1 = np.linspace(0.0,0.5,50)\n",
    "y1 = 3.0 * x1 + 2.0 + np.random.normal(0.0,2,len(x1)) # we introduce noise to the data to simulate real world data\n",
    "\n",
    "# we now use numpy.polyfit to figure out the relationship between x1 & y1. Once we \n",
    "poly_1 = np.polyfit(x1,y1,1)\n",
    "plt.plot(x1,y1,'o', label =\"Data_1\")\n",
    "plt.plot(x1, poly_1[0] * x1 + poly_1[1], '-',label =\"Trend_1\")\n",
    "plt.legend()\n",
    "\n",
    "x2 = np.linspace(0.0,0.5,50)\n",
    "y2 = 5.0 * x2 + 3.0 + np.random.normal(0.0,2,len(x2)) # we introduce noise to the data to simulate real world data\n",
    "\n",
    "# we now use numpy.polyfit to figure out the relationship between x1 & y1. Once we \n",
    "poly_2 = np.polyfit(x2,y2,1)\n",
    "plt.plot(x2,y2,'o', label =\"Data_2\")\n",
    "plt.plot(x2, poly_2[0] * x2 + poly_2[1], '-',label =\"Trend_2\")\n",
    "plt.legend()\n",
    "\n",
    "x3 = np.linspace(0.0,0.5,50)\n",
    "y3 = 6.0 * x3 + 4.0 + np.random.normal(0.0,3,len(x3)) # we introduce noise to the data to simulate real world data\n",
    "\n",
    "# we now use numpy.polyfit to figure out the relationship between x1 & y1. Once we \n",
    "poly_3 = np.polyfit(x3,y3,1)\n",
    "plt.plot(x3,y3,'o', label =\"Data_3\")\n",
    "plt.plot(x3, poly_3[0] * x3 + poly_3[1], '-',label =\"Trend_3\")\n",
    "plt.legend()\n",
    "\n",
    "x4 = np.linspace(0.0,0.5,50)\n",
    "y4 = 7.0 * x4 + 5.0 + np.random.normal(0.0,2,len(x4)) # we introduce noise to the data to simulate real world data\n",
    "\n",
    "# we now use numpy.polyfit to figure out the relationship between x1 & y1. Once we \n",
    "poly_4 = np.polyfit(x4,y4,1)\n",
    "plt.plot(x4,y4,'o', label =\"Data_4\")\n",
    "plt.plot(x4, poly_4[0] * x4 + poly_4[1], '-',label =\"Trend_4\")\n",
    "plt.legend()"
   ]
  },
  {
   "cell_type": "code",
   "execution_count": 59,
   "metadata": {},
   "outputs": [
    {
     "data": {
      "text/plain": [
       "<matplotlib.legend.Legend at 0x1a2037b1d0>"
      ]
     },
     "execution_count": 59,
     "metadata": {},
     "output_type": "execute_result"
    },
    {
     "data": {
      "image/png": "[encoded data removed]",
      "text/plain": [
       "<Figure size 1080x576 with 1 Axes>"
      ]
     },
     "metadata": {
      "needs_background": "light"
     },
     "output_type": "display_data"
    }
   ],
   "source": [
    "x_all = np.concatenate([x1,x2,x3,x4])\n",
    "y_all = np.concatenate([y1,y2,y3,y4])\n",
    "poly_all = np.polyfit(x_all,y_all,1)\n",
    "plt.plot(x_all,y_all,'o', label =\"Data_All\")\n",
    "plt.plot(x_all, poly_all[0] * x_all + poly_all[1], '-',label =\"Trend_All\")\n",
    "plt.legend()"
   ]
  },
  {
   "cell_type": "code",
   "execution_count": 56,
   "metadata": {},
   "outputs": [],
   "source": [
    "poly_1 = np.polyfit(x1,y1,1)"
   ]
  },
  {
   "cell_type": "code",
   "execution_count": null,
   "metadata": {},
   "outputs": [],
   "source": []
  },
  {
   "cell_type": "code",
   "execution_count": null,
   "metadata": {},
   "outputs": [],
   "source": []
  },
  {
   "cell_type": "code",
   "execution_count": null,
   "metadata": {},
   "outputs": [],
   "source": []
  },
  {
   "cell_type": "code",
   "execution_count": null,
   "metadata": {},
   "outputs": [],
   "source": []
  },
  {
   "cell_type": "markdown",
   "metadata": {},
   "source": [
    "### Reference\n",
    "***"
   ]
  },
  {
   "cell_type": "markdown",
   "metadata": {},
   "source": [
    "[1]https://en.wikipedia.org/wiki/Simpson%27s_paradox#:~:text=Simpson's%20paradox%2C%20which%20also%20goes,when%20these%20groups%20are%20combined.\n",
    "[2] https://www.youtube.com/watch?v=wgLUDw8eLB4&feature=emb_title\n",
    "[3] https://stackoverflow.com/questions/332289/how-do-you-change-the-size-of-figures-drawn-with-matplotlib\n",
    "[4] https://numpy.org/doc/stable/reference/generated/numpy.polyfit.html\n",
    "[5] https://www.youtube.com/watch?v=VaLWK_tgHTo"
   ]
  },
  {
   "cell_type": "code",
   "execution_count": null,
   "metadata": {},
   "outputs": [],
   "source": []
  }
 ],
 "metadata": {
  "kernelspec": {
   "display_name": "Python 3",
   "language": "python",
   "name": "python3"
  },
  "language_info": {
   "codemirror_mode": {
    "name": "ipython",
    "version": 3
   },
   "file_extension": ".py",
   "mimetype": "text/x-python",
   "name": "python",
   "nbconvert_exporter": "python",
   "pygments_lexer": "ipython3",
   "version": "3.7.4"
  }
 },
 "nbformat": 4,
 "nbformat_minor": 2
}
