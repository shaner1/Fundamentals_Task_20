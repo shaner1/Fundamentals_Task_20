{
 "cells": [
  {
   "cell_type": "code",
   "execution_count": 3,
   "metadata": {},
   "outputs": [
    {
     "name": "stdout",
     "output_type": "stream",
     "text": [
      "/bin/sh: -c: line 0: syntax error near unexpected token `GMIT-logo.png'\r\n",
      "/bin/sh: -c: line 0: `[GMIT_Logo.png](GMIT-logo.png)'\r\n"
     ]
    }
   ],
   "source": [
    "![GMIT_Logo.png](GMIT-logo.png)"
   ]
  },
  {
   "cell_type": "code",
   "execution_count": null,
   "metadata": {},
   "outputs": [],
   "source": []
  },
  {
   "cell_type": "markdown",
   "metadata": {},
   "source": [
    "This file contains my solution for the Fundamentals of Data Analytics tasks for 2020\n",
    "\n",
    "***"
   ]
  },
  {
   "cell_type": "markdown",
   "metadata": {},
   "source": [
    "## <div align=\"center\"> Task 1: Counts <div> "
   ]
  },
  {
   "cell_type": "markdown",
   "metadata": {},
   "source": [
    "This file contains my solution for the Fundamentals of Data Analytics tasks for 2020\n",
    "\n",
    "***"
   ]
  },
  {
   "cell_type": "code",
   "execution_count": 6,
   "metadata": {},
   "outputs": [],
   "source": [
    "myList = ['A', 'A', 'B', 'C', 'A']"
   ]
  },
  {
   "cell_type": "code",
   "execution_count": 7,
   "metadata": {},
   "outputs": [
    {
     "name": "stdout",
     "output_type": "stream",
     "text": [
      "['A', 'A', 'B', 'C', 'A']\n"
     ]
    }
   ],
   "source": [
    "print(myList)"
   ]
  },
  {
   "cell_type": "code",
   "execution_count": 8,
   "metadata": {},
   "outputs": [
    {
     "name": "stdout",
     "output_type": "stream",
     "text": [
      "['A', 'A', 'A', 'B', 'C']\n"
     ]
    }
   ],
   "source": [
    "print(sorted(myList))"
   ]
  },
  {
   "cell_type": "code",
   "execution_count": 9,
   "metadata": {},
   "outputs": [
    {
     "name": "stdout",
     "output_type": "stream",
     "text": [
      "['A', 'B', 'C']\n"
     ]
    }
   ],
   "source": [
    "print(sorted(set(myList)))"
   ]
  },
  {
   "cell_type": "code",
   "execution_count": 10,
   "metadata": {},
   "outputs": [],
   "source": [
    "key = sorted(set(myList))"
   ]
  },
  {
   "cell_type": "code",
   "execution_count": 11,
   "metadata": {},
   "outputs": [
    {
     "name": "stdout",
     "output_type": "stream",
     "text": [
      "['A', 'B', 'C']\n"
     ]
    }
   ],
   "source": [
    "print(key)"
   ]
  },
  {
   "cell_type": "code",
   "execution_count": 12,
   "metadata": {},
   "outputs": [],
   "source": [
    "Dict = {}"
   ]
  },
  {
   "cell_type": "code",
   "execution_count": 13,
   "metadata": {},
   "outputs": [],
   "source": [
    "for value in (key):\n",
    "    amount = myList.count(value)\n",
    "    Dict[value] = amount\n"
   ]
  },
  {
   "cell_type": "code",
   "execution_count": 14,
   "metadata": {},
   "outputs": [
    {
     "name": "stdout",
     "output_type": "stream",
     "text": [
      "{'A': 3, 'B': 1, 'C': 1}\n"
     ]
    }
   ],
   "source": [
    "print(Dict)"
   ]
  },
  {
   "cell_type": "code",
   "execution_count": 54,
   "metadata": {},
   "outputs": [],
   "source": [
    "def counts(myList):\n",
    "    key = sorted(set(myList))\n",
    "    for value in (key):\n",
    "        amount = myList.count(value)\n",
    "        Dict[value] = amount\n",
    "    return Dict\n",
    "        "
   ]
  },
  {
   "cell_type": "code",
   "execution_count": 16,
   "metadata": {},
   "outputs": [],
   "source": [
    "def count(x):\n",
    "    key = sorted(set(x))\n",
    "    for value in (key):\n",
    "        amount = myList.count(value)\n",
    "        Dict[value] = amount\n",
    "    return Dict\n",
    "        "
   ]
  },
  {
   "cell_type": "code",
   "execution_count": 17,
   "metadata": {},
   "outputs": [
    {
     "data": {
      "text/plain": [
       "{'A': 3, 'B': 1, 'C': 1}"
      ]
     },
     "execution_count": 17,
     "metadata": {},
     "output_type": "execute_result"
    }
   ],
   "source": [
    "count(myList)"
   ]
  },
  {
   "cell_type": "code",
   "execution_count": 12,
   "metadata": {},
   "outputs": [
    {
     "name": "stdout",
     "output_type": "stream",
     "text": [
      "Please enter a list of elements separated by a column:a a a b b b 1 1 2\n"
     ]
    }
   ],
   "source": [
    "#input a list \n",
    "inputs = input('Please enter a list of elements separated by a column:')"
   ]
  },
  {
   "cell_type": "code",
   "execution_count": 18,
   "metadata": {},
   "outputs": [
    {
     "data": {
      "text/plain": [
       "'a a a b b b 1 1 2'"
      ]
     },
     "execution_count": 18,
     "metadata": {},
     "output_type": "execute_result"
    }
   ],
   "source": [
    "inputs"
   ]
  },
  {
   "cell_type": "code",
   "execution_count": 23,
   "metadata": {},
   "outputs": [
    {
     "data": {
      "text/plain": [
       "'a a a b b b 1 1 2'"
      ]
     },
     "execution_count": 23,
     "metadata": {},
     "output_type": "execute_result"
    }
   ],
   "source": [
    "inputs"
   ]
  },
  {
   "cell_type": "code",
   "execution_count": 21,
   "metadata": {},
   "outputs": [],
   "source": [
    "userList = []"
   ]
  },
  {
   "cell_type": "code",
   "execution_count": 28,
   "metadata": {},
   "outputs": [],
   "source": [
    "userList = inputs.split()\n",
    "#user the split() function to separate the list elements by space and output a list [1]"
   ]
  },
  {
   "cell_type": "code",
   "execution_count": 29,
   "metadata": {},
   "outputs": [
    {
     "data": {
      "text/plain": [
       "['a', 'a', 'a', 'b', 'b', 'b', '1', '1', '2']"
      ]
     },
     "execution_count": 29,
     "metadata": {},
     "output_type": "execute_result"
    }
   ],
   "source": [
    "userList"
   ]
  },
  {
   "cell_type": "code",
   "execution_count": null,
   "metadata": {},
   "outputs": [],
   "source": []
  },
  {
   "cell_type": "markdown",
   "metadata": {},
   "source": [
    "***\n"
   ]
  },
  {
   "cell_type": "markdown",
   "metadata": {},
   "source": [
    "## Task 1: Counts"
   ]
  },
  {
   "cell_type": "markdown",
   "metadata": {},
   "source": [
    "Write a Python function called `counts` that takes a list as\n",
    "input and returns a dictionary of unique items in the list as keys and the number of\n",
    "times each item appears as values. So, the input `['A', 'A', 'B', 'C', 'A']`\n",
    "should have output `{'A': 3, 'B': 1, 'C': 1}` . Your code should not depend\n",
    "on any module from the standard library1 or otherwise. You should research\n",
    "the task first and include a description with references of your algorithm in the\n",
    "notebook."
   ]
  },
  {
   "cell_type": "code",
   "execution_count": 2,
   "metadata": {},
   "outputs": [
    {
     "name": "stdout",
     "output_type": "stream",
     "text": [
      "Please enter a list in which each element is separated by a space:a a a a  b b b\n"
     ]
    }
   ],
   "source": [
    "#ask a user to input a string of elements each separated by a space \n",
    "inputs = input('Please enter a list in which each element is separated by a space:')"
   ]
  },
  {
   "cell_type": "code",
   "execution_count": 3,
   "metadata": {},
   "outputs": [
    {
     "data": {
      "text/plain": [
       "'a a a a  b b b'"
      ]
     },
     "execution_count": 3,
     "metadata": {},
     "output_type": "execute_result"
    }
   ],
   "source": [
    "#check that inputs were passed to the \"inputs\" objects\n",
    "inputs "
   ]
  },
  {
   "cell_type": "code",
   "execution_count": 4,
   "metadata": {},
   "outputs": [],
   "source": [
    "#use the split() method to separate the list elements by space and output a list [1]\n",
    "userList = inputs.split()"
   ]
  },
  {
   "cell_type": "code",
   "execution_count": 5,
   "metadata": {},
   "outputs": [],
   "source": [
    "# Create an empty dictionary \n",
    "Dict = {}"
   ]
  },
  {
   "cell_type": "code",
   "execution_count": 6,
   "metadata": {},
   "outputs": [],
   "source": [
    "def count(x):\n",
    "    key = sorted(set(x))\n",
    "    for value in (key):\n",
    "        amount = userList.count(value)\n",
    "        Dict[value] = amount\n",
    "    return Dict\n",
    "        "
   ]
  },
  {
   "cell_type": "code",
   "execution_count": 7,
   "metadata": {},
   "outputs": [
    {
     "data": {
      "text/plain": [
       "{'a': 4, 'b': 3}"
      ]
     },
     "execution_count": 7,
     "metadata": {},
     "output_type": "execute_result"
    }
   ],
   "source": [
    "count(userList)"
   ]
  },
  {
   "cell_type": "markdown",
   "metadata": {},
   "source": [
    "### References \n",
    "\n",
    "[1] https://www.tutorialspoint.com/python3/string_split.htm\n",
    "***"
   ]
  },
  {
   "cell_type": "markdown",
   "metadata": {},
   "source": [
    "## Task 2: Roll The Dice"
   ]
  },
  {
   "cell_type": "markdown",
   "metadata": {},
   "source": [
    "Write a Python function called `Dicerolls` that simulates\n",
    "rolling dice. Your function should take two parameters: the number of dice $k$ and\n",
    "the number of times to roll the dice $n$. The function should simulate randomly\n",
    "rolling $k$ dice $n$ times, keeping track of each total face value. It should then return\n",
    "a dictionary with the number of times each possible total face value occurred. So,\n",
    "calling the function as `diceroll(k=2, n=1000)` should return a dictionary like:  \n",
    "``{2:19,3:50,4:82,5:112,6:135,7:174,8:133,9:114,10:75,11:70,12:36}``   \n",
    "\n",
    "You can use any module from the Python standard library you wish and you should\n",
    "include a description with references of your algorithm in the notebook."
   ]
  },
  {
   "cell_type": "markdown",
   "metadata": {},
   "source": [
    "This function will simulate rolling dice. The user is prompted for the amount of dice they would like to roll and how often. "
   ]
  },
  {
   "cell_type": "code",
   "execution_count": 64,
   "metadata": {},
   "outputs": [],
   "source": [
    "import numpy as np\n",
    "import matplotlib.pyplot as plt\n",
    "import seaborn as sns\n",
    "\n",
    "%matplotlib inline"
   ]
  },
  {
   "cell_type": "code",
   "execution_count": 13,
   "metadata": {},
   "outputs": [
    {
     "name": "stdout",
     "output_type": "stream",
     "text": [
      "Please enter the amount of dice you would like to roll: 3\n",
      "Please enter the amount of times you would like to roll the dice: 6\n"
     ]
    }
   ],
   "source": [
    "# Ask the user how many dice they would like to roll and how often\n",
    "# They need to be int values so they can be used to create lists to iterate over\n",
    "k = int(input(\"Please enter the amount of dice you would like to roll: \"))\n",
    "n = int(input(\"Please enter the amount of times you would like to roll the dice: \"))\n"
   ]
  },
  {
   "cell_type": "code",
   "execution_count": 14,
   "metadata": {},
   "outputs": [
    {
     "data": {
      "text/plain": [
       "3"
      ]
     },
     "execution_count": 14,
     "metadata": {},
     "output_type": "execute_result"
    }
   ],
   "source": [
    "k"
   ]
  },
  {
   "cell_type": "code",
   "execution_count": 15,
   "metadata": {},
   "outputs": [
    {
     "data": {
      "text/plain": [
       "6"
      ]
     },
     "execution_count": 15,
     "metadata": {},
     "output_type": "execute_result"
    }
   ],
   "source": [
    "n\n"
   ]
  },
  {
   "cell_type": "code",
   "execution_count": 23,
   "metadata": {},
   "outputs": [
    {
     "data": {
      "text/plain": [
       "array([0, 1, 2])"
      ]
     },
     "execution_count": 23,
     "metadata": {},
     "output_type": "execute_result"
    }
   ],
   "source": [
    "# turn k into an array so it can be iterated over\n",
    "dice = np.arange(k)\n",
    "dice"
   ]
  },
  {
   "cell_type": "code",
   "execution_count": 37,
   "metadata": {},
   "outputs": [
    {
     "data": {
      "text/plain": [
       "array([0, 1, 2, 3, 4, 5])"
      ]
     },
     "execution_count": 37,
     "metadata": {},
     "output_type": "execute_result"
    }
   ],
   "source": [
    "turns = np.arange(n)\n",
    "turns"
   ]
  },
  {
   "cell_type": "markdown",
   "metadata": {},
   "source": [
    "### Lets simulate a single instance of a roll of $k$ dice\n",
    "***"
   ]
  },
  {
   "cell_type": "code",
   "execution_count": 32,
   "metadata": {},
   "outputs": [
    {
     "name": "stdout",
     "output_type": "stream",
     "text": [
      "[5, 6, 1]\n",
      "12\n"
     ]
    }
   ],
   "source": [
    "\n",
    "# Create a random number generator \n",
    "rng = np.random.default_rng()\n",
    "\n",
    "roll = 0\n",
    "rollValue = []\n",
    "\n",
    "# Create a for loop that will simulate the random face value of each dice\n",
    "# I will create a list made up of each dice value so i can check the for loop is working as expected \n",
    "for i in (dice):\n",
    "    roll = rng.integers(1,6, endpoint= True )\n",
    "    rollValue.append(roll)\n",
    "\n",
    "# print out the value of each dice \n",
    "print(rollValue)\n",
    "\n",
    "#sum all the values of the list rollValue to get the total face value for the dice \n",
    "totalRoll = sum(rollValue)\n",
    "print(totalRoll)"
   ]
  },
  {
   "cell_type": "markdown",
   "metadata": {},
   "source": [
    "### Now lets simulate $k$ dice being rolled $n$ times\n",
    "***"
   ]
  },
  {
   "cell_type": "code",
   "execution_count": 57,
   "metadata": {
    "scrolled": true
   },
   "outputs": [
    {
     "name": "stdout",
     "output_type": "stream",
     "text": [
      "[5, 6, 3]\n",
      "14\n",
      "[4, 5, 3]\n",
      "12\n",
      "[5, 1, 4]\n",
      "10\n",
      "[2, 5, 3]\n",
      "10\n",
      "[3, 2, 2]\n",
      "7\n",
      "[5, 6, 6]\n",
      "17\n",
      "These are the total values of k, rolled n times  [14, 12, 10, 10, 7, 17]\n"
     ]
    }
   ],
   "source": [
    "\n",
    "# Create a random number generator \n",
    "rng = np.random.default_rng()\n",
    "\n",
    "roll = 0\n",
    "rollValue = []\n",
    "# new list that will hold the total value of k dice for each iteration\n",
    "results = []\n",
    "\n",
    "for i in turns:\n",
    "  \n",
    "    for i in (dice):\n",
    "            roll = rng.integers(1,6, endpoint= True )\n",
    "            rollValue.append(roll)\n",
    "            totalRoll = sum(rollValue)\n",
    "    \n",
    "    # add the total face value of k dice to results\n",
    "    results.append(totalRoll)\n",
    "    # print out the value of each dice \n",
    "    print(rollValue)\n",
    "    # print out the total value of k dice \n",
    "    print(totalRoll)\n",
    "    # reset rollValue to empty at the start of each iteration\n",
    "    rollValue = []\n",
    "\n",
    "print(\"These are the total values of k, rolled n times \",results)"
   ]
  },
  {
   "cell_type": "markdown",
   "metadata": {},
   "source": [
    "### Lets check the distribution of dice values to make sure it is random\n",
    "***"
   ]
  },
  {
   "cell_type": "code",
   "execution_count": 63,
   "metadata": {},
   "outputs": [
    {
     "name": "stdout",
     "output_type": "stream",
     "text": [
      "Please enter the amount of dice you would like to roll: 2\n",
      "Please enter the amount of times you would like to roll the dice: 10000\n"
     ]
    },
    {
     "data": {
      "text/plain": [
       "<seaborn.axisgrid.FacetGrid at 0x7fa4bdcb0990>"
      ]
     },
     "execution_count": 63,
     "metadata": {},
     "output_type": "execute_result"
    },
    {
     "data": {
      "image/png": "[encoded data removed]",
      "text/plain": [
       "<Figure size 360x360 with 1 Axes>"
      ]
     },
     "metadata": {
      "needs_background": "light"
     },
     "output_type": "display_data"
    },
    {
     "data": {
      "image/png": "[encoded data removed]",
      "text/plain": [
       "<Figure size 360x360 with 1 Axes>"
      ]
     },
     "metadata": {
      "needs_background": "light"
     },
     "output_type": "display_data"
    }
   ],
   "source": [
    "k = int(input(\"Please enter the amount of dice you would like to roll: \"))\n",
    "n = int(input(\"Please enter the amount of times you would like to roll the dice: \"))\n",
    "dice = np.arange(k)\n",
    "turns = np.arange(n)\n",
    "\n",
    "rng = np.random.default_rng()\n",
    "\n",
    "roll = 0\n",
    "rollValue = []\n",
    "# lets check a new list so we check the distribution of individual dice values \n",
    "dist = []\n",
    "results = []\n",
    "\n",
    "for i in turns:\n",
    "  \n",
    "    for i in (dice):\n",
    "            roll = rng.integers(1,6, endpoint= True )\n",
    "            rollValue.append(roll)\n",
    "            dist.append(roll)\n",
    "            totalRoll = sum(rollValue)\n",
    "    \n",
    "    results.append(totalRoll)\n",
    "    rollValue = []\n",
    "\n",
    "# lets plot the distribution of individual dice values run n times \n",
    "sns.displot(dist, discrete=True)\n",
    "# lets plot the distribution of \n",
    "sns.displot(results, discrete=True)"
   ]
  },
  {
   "cell_type": "markdown",
   "metadata": {},
   "source": [
    "### Lets turn it into a function \n",
    "***"
   ]
  },
  {
   "cell_type": "code",
   "execution_count": null,
   "metadata": {},
   "outputs": [],
   "source": []
  },
  {
   "cell_type": "code",
   "execution_count": 6,
   "metadata": {},
   "outputs": [],
   "source": [
    "def count(x):\n",
    "    key = sorted(set(x))\n",
    "    for value in (key):\n",
    "        amount = userList.count(value)\n",
    "        Dict[value] = amount\n",
    "    return Dict\n",
    "        "
   ]
  },
  {
   "cell_type": "code",
   "execution_count": 69,
   "metadata": {},
   "outputs": [],
   "source": [
    "\n",
    "dice = np.arange(k)\n",
    "turns = np.arange(n)\n",
    "\n",
    "rng = np.random.default_rng()\n",
    "\n",
    "roll = 0\n",
    "rollValue = []\n",
    "dist = []\n",
    "results = []\n",
    "Dict1 ={}\n",
    "\n",
    "def diceroll(k,n):\n",
    "    dice = np.arange(k)\n",
    "    turns = np.arange(n)\n",
    "    \n",
    "    roll = 0\n",
    "    rollValue = []\n",
    "    results = []\n",
    "    \n",
    "    for i in turns:\n",
    "\n",
    "        for i in (dice):\n",
    "                roll = rng.integers(1,6, endpoint= True )\n",
    "                rollValue.append(roll)\n",
    "                totalRoll = sum(rollValue)\n",
    "        results.append(totalRoll)\n",
    "        rollValue = []\n",
    "        \n",
    "    key = sorted(set(results))\n",
    "    for value in (key):\n",
    "        amount = results.count(value)\n",
    "        Dict[value] = amount\n",
    "    return Dict\n"
   ]
  },
  {
   "cell_type": "code",
   "execution_count": 70,
   "metadata": {},
   "outputs": [
    {
     "data": {
      "text/plain": [
       "{'a': 4,\n",
       " 'b': 3,\n",
       " 2: 30,\n",
       " 3: 57,\n",
       " 4: 74,\n",
       " 5: 114,\n",
       " 6: 125,\n",
       " 7: 169,\n",
       " 8: 138,\n",
       " 9: 122,\n",
       " 10: 85,\n",
       " 11: 54,\n",
       " 12: 32}"
      ]
     },
     "execution_count": 70,
     "metadata": {},
     "output_type": "execute_result"
    }
   ],
   "source": [
    "diceroll(2,1000)"
   ]
  },
  {
   "cell_type": "markdown",
   "metadata": {},
   "source": [
    "## References\n",
    "***"
   ]
  },
  {
   "cell_type": "markdown",
   "metadata": {},
   "source": [
    "https://stackoverflow.com/questions/52805150/python-rolling-3-dice\n",
    "    \n",
    "https://medium.com/programminginpython-com/python-program-to-calculate-the-sum-of-elements-in-a-list-ed2b80db8268\n"
   ]
  },
  {
   "cell_type": "code",
   "execution_count": null,
   "metadata": {},
   "outputs": [],
   "source": []
  },
  {
   "cell_type": "code",
   "execution_count": null,
   "metadata": {},
   "outputs": [],
   "source": []
  },
  {
   "cell_type": "code",
   "execution_count": null,
   "metadata": {},
   "outputs": [],
   "source": []
  },
  {
   "cell_type": "code",
   "execution_count": null,
   "metadata": {},
   "outputs": [],
   "source": []
  },
  {
   "cell_type": "code",
   "execution_count": null,
   "metadata": {},
   "outputs": [],
   "source": []
  },
  {
   "cell_type": "markdown",
   "metadata": {},
   "source": [
    "## Task 3"
   ]
  },
  {
   "cell_type": "markdown",
   "metadata": {},
   "source": [
    "https://numpy.org/doc/stable/reference/random/generated/numpy.random.binomial.html?highlight=random%20binomial#numpy.random.binomial\n",
    "\n",
    "https://www.youtube.com/watch?v=e04_wUoscBU&list=PLTNMv857s9WVzutwxaMb0YZKW7hoveGLS&index=2\n",
    "\n",
    "https://www.khanacademy.org/math/precalculus/x9e81a4f98389efdf:prob-comb/x9e81a4f98389efdf:combinations/v/combination-formula\n",
    "\n",
    "https://github.com/mwaskom/seaborn/issues/2352"
   ]
  },
  {
   "cell_type": "code",
   "execution_count": 6,
   "metadata": {},
   "outputs": [
    {
     "name": "stdout",
     "output_type": "stream",
     "text": [
      "Enter the amount of times you would like to run this experiemnt: 100\n"
     ]
    }
   ],
   "source": [
    "\n",
    "n = input(\"Enter the amount of times you would like to run this experiemnt: \")\n",
    "p = 0.5\n",
    "# n = the number of trails and p = the probability on success"
   ]
  },
  {
   "cell_type": "code",
   "execution_count": 1,
   "metadata": {},
   "outputs": [],
   "source": [
    "import numpy as np\n",
    "rng = np.random.default_rng()\n",
    "# create a random number generator \n",
    "\n",
    "n, p = 100, .5  # number of trials, probability of each trial\n",
    "s = rng.binomial(n, p, 1000)\n",
    "# result of flipping a coin 10 times, tested 1000 times.\n"
   ]
  },
  {
   "cell_type": "code",
   "execution_count": 6,
   "metadata": {},
   "outputs": [
    {
     "data": {
      "text/plain": [
       "<seaborn.axisgrid.FacetGrid at 0x109815850>"
      ]
     },
     "execution_count": 6,
     "metadata": {},
     "output_type": "execute_result"
    },
    {
     "data": {
      "image/png": "[encoded data removed]",
      "text/plain": [
       "<Figure size 360x360 with 1 Axes>"
      ]
     },
     "metadata": {
      "needs_background": "light"
     },
     "output_type": "display_data"
    }
   ],
   "source": [
    "%matplotlib inline\n",
    "\n",
    "import matplotlib.pyplot as plt\n",
    "import seaborn as sns\n",
    "sns.displot(s,  kind=\"kde\")\n",
    "# wont run because the version of seaborn is 0.9\n",
    "# Couldnt update seaborn from Anaconda and needed to force the update\n",
    "# conda install seaborn==0.11.0"
   ]
  },
  {
   "cell_type": "code",
   "execution_count": 4,
   "metadata": {},
   "outputs": [
    {
     "data": {
      "text/plain": [
       "'0.11.0'"
      ]
     },
     "execution_count": 4,
     "metadata": {},
     "output_type": "execute_result"
    }
   ],
   "source": [
    "import seaborn as sns\n",
    "sns.__version__\n"
   ]
  },
  {
   "cell_type": "code",
   "execution_count": 4,
   "metadata": {},
   "outputs": [
    {
     "name": "stdout",
     "output_type": "stream",
     "text": [
      "3.7.4\n"
     ]
    }
   ],
   "source": [
    "from platform import python_version\n",
    "\n",
    "print(python_version())"
   ]
  },
  {
   "cell_type": "markdown",
   "metadata": {},
   "source": [
    "## Task 4"
   ]
  },
  {
   "cell_type": "markdown",
   "metadata": {},
   "source": [
    "https://www.youtube.com/watch?v=NTHA9Qa81R8"
   ]
  },
  {
   "cell_type": "markdown",
   "metadata": {},
   "source": [
    "## <div align=\"center\"> Simpson's Paradox <div> \n",
    "    \n",
    "Simpson's Paradox is a well-known paradox within probability and statistics in which a trend a similar trend appears in several individual groups of data, but the trend is reserved or disappears when the data is aggerated.\n",
    "\n",
    "***"
   ]
  },
  {
   "cell_type": "markdown",
   "metadata": {},
   "source": [
    "To demonstrate Simpson's Paradox we will simulation 4 separate dataset with similar positive trends. We shal then aggregate the data and observe the result."
   ]
  },
  {
   "cell_type": "code",
   "execution_count": 2,
   "metadata": {},
   "outputs": [],
   "source": [
    "import numpy as np\n",
    "import matplotlib.pyplot as plt\n",
    "import seaborn as sns\n",
    "\n",
    "plt.style.use(\"ggplot\")\n",
    "%matplotlib inline\n",
    "plt.rcParams[\"figure.figsize\"] = (15,8)\n",
    "#Need to set the seed"
   ]
  },
  {
   "cell_type": "code",
   "execution_count": 15,
   "metadata": {
    "scrolled": true
   },
   "outputs": [
    {
     "data": {
      "text/plain": [
       "<matplotlib.legend.Legend at 0x1a24364a10>"
      ]
     },
     "execution_count": 15,
     "metadata": {},
     "output_type": "execute_result"
    },
    {
     "data": {
      "image/png": "[encoded data removed]",
      "text/plain": [
       "<Figure size 432x288 with 1 Axes>"
      ]
     },
     "metadata": {
      "needs_background": "light"
     },
     "output_type": "display_data"
    }
   ],
   "source": [
    "# create data that increases in a positive trend \n",
    "x1 = np.linspace(5.0,10.0,50)\n",
    "y1 = 3.0 * x1 + 2.0 + np.random.normal(0.0,1,len(x1)) # we introduce noise to the data to simulate real world data\n",
    "\n",
    "# we now use numpy.polyfit to figure out the relationship between x1 & y1. Once we \n",
    "poly_1 = np.polyfit(x1,y1,1)\n",
    "plt.plot(x1,y1,'o', label =\"Data_1\")\n",
    "plt.plot(x1, poly_1[0] * x1 + poly_1[1], '-',label =\"Trend_1\")\n",
    "plt.legend()\n",
    "\n",
    "x2 = np.linspace(4.0,8.0,50)\n",
    "y2 = 6.0 * x2 + 4.0 + np.random.normal(0.0,1,len(x2)) # we introduce noise to the data to simulate real world data\n",
    "\n",
    "# we now use numpy.polyfit to figure out the relationship between x1 & y1. Once we \n",
    "poly_2 = np.polyfit(x2,y2,1)\n",
    "plt.plot(x2,y2,'o', label =\"Data_2\")\n",
    "plt.plot(x2, poly_2[0] * x2 + poly_2[1], '-',label =\"Trend_2\")\n",
    "plt.legend()\n",
    "\n",
    "x3 = np.linspace(3.0,6.0,50)\n",
    "y3 = 9.0 * x3 + 4.0 + np.random.normal(0.0,3,len(x3)) # we introduce noise to the data to simulate real world data\n",
    "\n",
    "# we now use numpy.polyfit to figure out the relationship between x1 & y1. Once we \n",
    "poly_3 = np.polyfit(x3,y3,1)\n",
    "plt.plot(x3,y3,'o', label =\"Data_3\")\n",
    "plt.plot(x3, poly_3[0] * x3 + poly_3[1], '-',label =\"Trend_3\")\n",
    "plt.legend()\n",
    "\n",
    "#x4 = np.linspace(0.0,0.5,50)\n",
    "#y4 = 7.0 * x4 + 5.0 + np.random.normal(0.0,2,len(x4)) # we introduce noise to the data to simulate real world data\n",
    "\n",
    "# we now use numpy.polyfit to figure out the relationship between x1 & y1. Once we \n",
    "#poly_4 = np.polyfit(x4,y4,1)\n",
    "#plt.plot(x4,y4,'o', label =\"Data_4\")\n",
    "#plt.plot(x4, poly_4[0] * x4 + poly_4[1], '-',label =\"Trend_4\")\n",
    "#plt.legend()"
   ]
  },
  {
   "cell_type": "code",
   "execution_count": 16,
   "metadata": {},
   "outputs": [
    {
     "data": {
      "text/plain": [
       "<matplotlib.legend.Legend at 0x1a243d4890>"
      ]
     },
     "execution_count": 16,
     "metadata": {},
     "output_type": "execute_result"
    },
    {
     "data": {
      "image/png": "[encoded data removed]",
      "text/plain": [
       "<Figure size 432x288 with 1 Axes>"
      ]
     },
     "metadata": {
      "needs_background": "light"
     },
     "output_type": "display_data"
    }
   ],
   "source": [
    "x_all = np.concatenate([x1,x2,x3])\n",
    "y_all = np.concatenate([y1,y2,y3])\n",
    "poly_all = np.polyfit(x_all,y_all,1)\n",
    "plt.plot(x_all,y_all,'o', label =\"Data_All\")\n",
    "plt.plot(x_all, poly_all[0] * x_all + poly_all[1], '-',label =\"Trend_All\")\n",
    "plt.legend()"
   ]
  },
  {
   "cell_type": "code",
   "execution_count": 56,
   "metadata": {},
   "outputs": [],
   "source": [
    "poly_1 = np.polyfit(x1,y1,1)"
   ]
  },
  {
   "cell_type": "code",
   "execution_count": null,
   "metadata": {},
   "outputs": [],
   "source": [
    "# combined dataset didnt work because data is too similar "
   ]
  },
  {
   "cell_type": "code",
   "execution_count": null,
   "metadata": {},
   "outputs": [],
   "source": []
  },
  {
   "cell_type": "code",
   "execution_count": null,
   "metadata": {},
   "outputs": [],
   "source": []
  },
  {
   "cell_type": "code",
   "execution_count": null,
   "metadata": {},
   "outputs": [],
   "source": []
  },
  {
   "cell_type": "markdown",
   "metadata": {},
   "source": [
    "### Reference\n",
    "***"
   ]
  },
  {
   "cell_type": "markdown",
   "metadata": {},
   "source": [
    "[1]https://en.wikipedia.org/wiki/Simpson%27s_paradox#:~:text=Simpson's%20paradox%2C%20which%20also%20goes,when%20these%20groups%20are%20combined.\n",
    "[2] https://www.youtube.com/watch?v=wgLUDw8eLB4&feature=emb_title\n",
    "[3] https://stackoverflow.com/questions/332289/how-do-you-change-the-size-of-figures-drawn-with-matplotlib\n",
    "[4] https://numpy.org/doc/stable/reference/generated/numpy.polyfit.html\n",
    "[5] https://www.youtube.com/watch?v=VaLWK_tgHTo"
   ]
  },
  {
   "cell_type": "markdown",
   "metadata": {},
   "source": [
    "## Other References \n",
    "\n",
    "https://google.github.io/styleguide/docguide/style.html#code\n",
    "\n",
    "https://towardsdatascience.com/write-markdown-latex-in-the-jupyter-notebook-10985edb91fd#:~:text=The%20Jupyter%20Notebook%20uses%20MathJax,by%20writing%20between%20%24%24%20%24%24%20.&text=The%20%5Bn%5D%20is%20optional."
   ]
  },
  {
   "cell_type": "code",
   "execution_count": null,
   "metadata": {},
   "outputs": [],
   "source": []
  }
 ],
 "metadata": {
  "kernelspec": {
   "display_name": "Python 3",
   "language": "python",
   "name": "python3"
  },
  "language_info": {
   "codemirror_mode": {
    "name": "ipython",
    "version": 3
   },
   "file_extension": ".py",
   "mimetype": "text/x-python",
   "name": "python",
   "nbconvert_exporter": "python",
   "pygments_lexer": "ipython3",
   "version": "3.7.4"
  }
 },
 "nbformat": 4,
 "nbformat_minor": 2
}
